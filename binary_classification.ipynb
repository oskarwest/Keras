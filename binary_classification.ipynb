{
  "nbformat": 4,
  "nbformat_minor": 0,
  "metadata": {
    "colab": {
      "provenance": [],
      "gpuType": "T4"
    },
    "kernelspec": {
      "name": "python3",
      "display_name": "Python 3"
    },
    "language_info": {
      "name": "python"
    },
    "accelerator": "GPU"
  },
  "cells": [
    {
      "cell_type": "code",
      "execution_count": 53,
      "metadata": {
        "id": "CzvZwseoP3Zw"
      },
      "outputs": [],
      "source": [
        "import numpy as np\n",
        "from keras.datasets import imdb\n",
        "from keras import models, layers, optimizers\n"
      ]
    },
    {
      "cell_type": "markdown",
      "source": [
        "En este ejercicio utilizaremos un dataset de imdb que contiene una lista de valoraciones de peliculas, que incluye el comentarios respecto a la pelicula y una clasificacion de 1 para criticas positivas y 0 para las negativas."
      ],
      "metadata": {
        "id": "biSuVhFecnYh"
      }
    },
    {
      "cell_type": "code",
      "source": [
        "(train_data, train_labels),(test_data, test_labels)=imdb.load_data(num_words=10000)"
      ],
      "metadata": {
        "id": "neta86PuRTQh"
      },
      "execution_count": 31,
      "outputs": []
    },
    {
      "cell_type": "code",
      "source": [
        "train_data[0]"
      ],
      "metadata": {
        "id": "clC0bd-aRjWh"
      },
      "execution_count": null,
      "outputs": []
    },
    {
      "cell_type": "code",
      "source": [
        "train_labels[0]"
      ],
      "metadata": {
        "colab": {
          "base_uri": "https://localhost:8080/"
        },
        "id": "Hyjn-iEaR-N9",
        "outputId": "10639531-7851-4118-eb18-4250ee321548"
      },
      "execution_count": 33,
      "outputs": [
        {
          "output_type": "execute_result",
          "data": {
            "text/plain": [
              "1"
            ]
          },
          "metadata": {},
          "execution_count": 33
        }
      ]
    },
    {
      "cell_type": "code",
      "source": [
        "word_index=imdb.get_word_index() "
      ],
      "metadata": {
        "id": "J30wM3HISJJc"
      },
      "execution_count": 22,
      "outputs": []
    },
    {
      "cell_type": "markdown",
      "source": [
        "<H1> PREPARACION DEL DATASET </H1>\n",
        "\n",
        "<p>Como podemos observar el dataset de imdb que estamos utilizando retorna una lista que no tiene dimension alguna, es decir, no es un tensor, por lo que la red neuronal que construyamos no podrá procesarlo. En las siguientes lineas transformamos esta lista en un formato float32 que keras entienda.</p>"
      ],
      "metadata": {
        "id": "OYrPKIPfaVCV"
      }
    },
    {
      "cell_type": "code",
      "source": [
        "word_index=dict([(value,key) for (key,value) in word_index.items()]) #esto es para que los indices y las palabras queden en la posicion correcta"
      ],
      "metadata": {
        "id": "r2uYsyjiV1Fs"
      },
      "execution_count": 34,
      "outputs": []
    },
    {
      "cell_type": "code",
      "source": [
        "word_index"
      ],
      "metadata": {
        "id": "uyFhOegfWPDV"
      },
      "execution_count": null,
      "outputs": []
    },
    {
      "cell_type": "code",
      "source": [
        "for _ in train_data[0]:\n",
        "  print(word_index.get(_ -3)) #lo del -3 se encuentra en la documentacion y es porque los primeros 3 indices son reservadas, \n",
        "                              #al final tendremos una descripcion con sentido."
      ],
      "metadata": {
        "id": "qLOfjM9eWWuc"
      },
      "execution_count": null,
      "outputs": []
    },
    {
      "cell_type": "code",
      "source": [
        "#VECTORIZAR: como keras solo recibe tensores (numeros de coma flotante) para ello es necesario vectorizar\n",
        "\n",
        "def vectorizar(sequences, dim=10000):\n",
        "  results=np.zeros((len(sequences),dim))\n",
        "  for i, sequences in enumerate(sequences):\n",
        "    results[i,sequences]=1\n",
        "  return results\n",
        "\n"
      ],
      "metadata": {
        "id": "Iw36a1Q5W6UQ"
      },
      "execution_count": 37,
      "outputs": []
    },
    {
      "cell_type": "code",
      "source": [
        "x_train=vectorizar(train_data) #ahora podemos pasar nuetra data de la forma que admite keras\n",
        "x_test=vectorizar(test_data)"
      ],
      "metadata": {
        "id": "_rALrbG_ZFbN"
      },
      "execution_count": 38,
      "outputs": []
    },
    {
      "cell_type": "code",
      "source": [
        "y_train=np.asarray(train_labels).astype('float32') # de igual forma con los labels\n",
        "y_test=np.asarray(test_labels).astype('float32')"
      ],
      "metadata": {
        "id": "IzTbzQ3yZejp"
      },
      "execution_count": 39,
      "outputs": []
    },
    {
      "cell_type": "markdown",
      "source": [
        "<h1>ENTRANAMIENTO</h1>\n",
        "\n",
        "Utilizaremos la funcion de perdida binary cross entropy que es la recomendada en la clasificacion binaria."
      ],
      "metadata": {
        "id": "pXROzJ_XcPW6"
      }
    },
    {
      "cell_type": "code",
      "source": [
        "#construcción del modelo\n",
        "\n",
        "model=models.Sequential()\n",
        "model.add(layers.Dense(16, activation='relu', input_shape=(10000,))) #Esta es la unica capa que necesita el input\n",
        "model.add(layers.Dense(16, activation='relu'))\n",
        "model.add(layers.Dense(1, activation='sigmoid')) #la ultima capa debe ser una que me clasifique en positivo o negativo,\n",
        "                                                #ademas utilizamos la funcion sigmoid que me da la probabilidad"
      ],
      "metadata": {
        "id": "o28hidGgduiS"
      },
      "execution_count": 57,
      "outputs": []
    },
    {
      "cell_type": "code",
      "source": [
        "model.compile(optimizer='rmsprop',\n",
        "              loss='binary_crossentropy',\n",
        "              metrics='accuracy') \n",
        " #este optimizador actua de mejor forma que el descenso del gradiente utilizado en el ejercicio anterior y es el que viene por defecto\n",
        " #la funcion de perdida que recomiendan\n",
        " #la metrica de exito que utilizamos es el accuracy"
      ],
      "metadata": {
        "id": "8YMijOu7eoVC"
      },
      "execution_count": 58,
      "outputs": []
    },
    {
      "cell_type": "markdown",
      "source": [
        "A continuación, creamos la data de validacion"
      ],
      "metadata": {
        "id": "SbZiRxVUgID4"
      }
    },
    {
      "cell_type": "code",
      "source": [
        "x_val = x_train[:10000]\n",
        "partial_x_train = x_train[10000:]\n",
        "\n",
        "y_val = y_train[:10000]\n",
        "partial_y_train = y_train[10000:]"
      ],
      "metadata": {
        "id": "Ga5Hlx6tgRmG"
      },
      "execution_count": 59,
      "outputs": []
    },
    {
      "cell_type": "markdown",
      "source": [
        "Ahora lo interesante, entrenamos el modelo guardando los resultados en una variable llamada history."
      ],
      "metadata": {
        "id": "FXoI1BwvgqFS"
      }
    },
    {
      "cell_type": "code",
      "source": [
        "history = model.fit(partial_x_train, partial_y_train,\n",
        "                    epochs=20,\n",
        "                    batch_size=512,\n",
        "                    validation_data=(x_val,y_val)) #aqui vemos como desde el entranamiento se empieza a hacer validaciones"
      ],
      "metadata": {
        "colab": {
          "base_uri": "https://localhost:8080/"
        },
        "id": "V70tbpUAgzlX",
        "outputId": "cee0b0f1-e605-4cdd-9418-b07edf407c20"
      },
      "execution_count": 60,
      "outputs": [
        {
          "output_type": "stream",
          "name": "stdout",
          "text": [
            "Epoch 1/20\n",
            "30/30 [==============================] - 3s 57ms/step - loss: 0.5306 - accuracy: 0.7758 - val_loss: 0.4205 - val_accuracy: 0.8454\n",
            "Epoch 2/20\n",
            "30/30 [==============================] - 1s 22ms/step - loss: 0.3367 - accuracy: 0.8901 - val_loss: 0.3304 - val_accuracy: 0.8764\n",
            "Epoch 3/20\n",
            "30/30 [==============================] - 1s 22ms/step - loss: 0.2546 - accuracy: 0.9161 - val_loss: 0.2868 - val_accuracy: 0.8882\n",
            "Epoch 4/20\n",
            "30/30 [==============================] - 1s 29ms/step - loss: 0.2049 - accuracy: 0.9330 - val_loss: 0.2761 - val_accuracy: 0.8896\n",
            "Epoch 5/20\n",
            "30/30 [==============================] - 1s 39ms/step - loss: 0.1709 - accuracy: 0.9440 - val_loss: 0.2801 - val_accuracy: 0.8862\n",
            "Epoch 6/20\n",
            "30/30 [==============================] - 1s 21ms/step - loss: 0.1474 - accuracy: 0.9528 - val_loss: 0.2796 - val_accuracy: 0.8876\n",
            "Epoch 7/20\n",
            "30/30 [==============================] - 1s 21ms/step - loss: 0.1253 - accuracy: 0.9606 - val_loss: 0.3254 - val_accuracy: 0.8774\n",
            "Epoch 8/20\n",
            "30/30 [==============================] - 1s 22ms/step - loss: 0.1099 - accuracy: 0.9659 - val_loss: 0.3038 - val_accuracy: 0.8828\n",
            "Epoch 9/20\n",
            "30/30 [==============================] - 1s 25ms/step - loss: 0.0945 - accuracy: 0.9717 - val_loss: 0.3169 - val_accuracy: 0.8817\n",
            "Epoch 10/20\n",
            "30/30 [==============================] - 1s 22ms/step - loss: 0.0847 - accuracy: 0.9749 - val_loss: 0.3551 - val_accuracy: 0.8744\n",
            "Epoch 11/20\n",
            "30/30 [==============================] - 1s 22ms/step - loss: 0.0697 - accuracy: 0.9825 - val_loss: 0.3513 - val_accuracy: 0.8799\n",
            "Epoch 12/20\n",
            "30/30 [==============================] - 1s 25ms/step - loss: 0.0623 - accuracy: 0.9837 - val_loss: 0.3686 - val_accuracy: 0.8791\n",
            "Epoch 13/20\n",
            "30/30 [==============================] - 1s 31ms/step - loss: 0.0545 - accuracy: 0.9867 - val_loss: 0.3951 - val_accuracy: 0.8737\n",
            "Epoch 14/20\n",
            "30/30 [==============================] - 1s 40ms/step - loss: 0.0463 - accuracy: 0.9892 - val_loss: 0.4091 - val_accuracy: 0.8768\n",
            "Epoch 15/20\n",
            "30/30 [==============================] - 1s 41ms/step - loss: 0.0399 - accuracy: 0.9921 - val_loss: 0.4345 - val_accuracy: 0.8760\n",
            "Epoch 16/20\n",
            "30/30 [==============================] - 1s 33ms/step - loss: 0.0326 - accuracy: 0.9949 - val_loss: 0.4572 - val_accuracy: 0.8739\n",
            "Epoch 17/20\n",
            "30/30 [==============================] - 1s 29ms/step - loss: 0.0310 - accuracy: 0.9939 - val_loss: 0.4766 - val_accuracy: 0.8728\n",
            "Epoch 18/20\n",
            "30/30 [==============================] - 1s 46ms/step - loss: 0.0243 - accuracy: 0.9965 - val_loss: 0.4984 - val_accuracy: 0.8712\n",
            "Epoch 19/20\n",
            "30/30 [==============================] - 1s 35ms/step - loss: 0.0199 - accuracy: 0.9976 - val_loss: 0.5296 - val_accuracy: 0.8678\n",
            "Epoch 20/20\n",
            "30/30 [==============================] - 1s 27ms/step - loss: 0.0175 - accuracy: 0.9979 - val_loss: 0.5520 - val_accuracy: 0.8677\n"
          ]
        }
      ]
    },
    {
      "cell_type": "code",
      "source": [
        "#Grafiquemos\n",
        "import matplotlib.pyplot as plt\n",
        "\n",
        "history_dict=history.history\n",
        "loss_values=history_dict['loss']\n",
        "val_loss_values=history_dict['val_loss']\n",
        "\n",
        "epoch=range(1,len(loss_values)+1)\n",
        "plt.plot(epoch, loss_values, 'o', label='training')\n",
        "plt.plot(epoch, val_loss_values, '--', label='validation')\n",
        "plt.legend()\n",
        "plt.show()"
      ],
      "metadata": {
        "colab": {
          "base_uri": "https://localhost:8080/",
          "height": 430
        },
        "id": "wvYtPuLKiqpy",
        "outputId": "81e1be30-19c5-4d2c-a46b-3584146bf4ab"
      },
      "execution_count": 56,
      "outputs": [
        {
          "output_type": "display_data",
          "data": {
            "text/plain": [
              "<Figure size 640x480 with 1 Axes>"
            ],
            "image/png": "[encoded data removed]"
          },
          "metadata": {}
        }
      ]
    },
    {
      "cell_type": "markdown",
      "source": [
        "De momento, el entrenamiento en el set de datos de training converge rapidamente, pero en el set de datos de validacion llega a un punto donde hay overfitting, vamos a corregir esto.\n",
        "\n",
        "Existen ciertas tecnicas que nos ayudan a corregir el overfitting por ejemplo:\n",
        "\n",
        "<li>Utilizar un modelo mas pequeño</li>\n",
        "<li>Regularizacion: reducir los pesos</li>\n",
        "<li>Dropout: apagar aleatoriamente neuronas de cada capa en cada iteracion</li>\n"
      ],
      "metadata": {
        "id": "VpPq7NIfk9MO"
      }
    },
    {
      "cell_type": "code",
      "source": [
        "#MODELO MENOS COMPLEJO\n",
        "\n",
        "model2=models.Sequential()\n",
        "model2.add(layers.Dense(4, activation='relu', input_shape=(10000,)))\n",
        "model2.add(layers.Dense(4, activation='relu'))\n",
        "model2.add(layers.Dense(1, activation='sigmoid')) \n",
        "                                           \n",
        "model2.compile(optimizer='rmsprop',\n",
        "              loss='binary_crossentropy',\n",
        "              metrics='accuracy') \n",
        "\n",
        "history2 = model2.fit(partial_x_train, partial_y_train,\n",
        "                    epochs=20,\n",
        "                    batch_size=512,\n",
        "                    validation_data=(x_val,y_val))"
      ],
      "metadata": {
        "colab": {
          "base_uri": "https://localhost:8080/"
        },
        "id": "YZli0pxllaJT",
        "outputId": "3ec8d032-f0da-4492-8cb7-854c090a58f1"
      },
      "execution_count": 64,
      "outputs": [
        {
          "output_type": "stream",
          "name": "stdout",
          "text": [
            "Epoch 1/20\n",
            "30/30 [==============================] - 4s 54ms/step - loss: 0.6098 - accuracy: 0.7468 - val_loss: 0.5331 - val_accuracy: 0.8450\n",
            "Epoch 2/20\n",
            "30/30 [==============================] - 1s 24ms/step - loss: 0.4691 - accuracy: 0.8707 - val_loss: 0.4357 - val_accuracy: 0.8655\n",
            "Epoch 3/20\n",
            "30/30 [==============================] - 1s 22ms/step - loss: 0.3756 - accuracy: 0.8965 - val_loss: 0.3846 - val_accuracy: 0.8690\n",
            "Epoch 4/20\n",
            "30/30 [==============================] - 1s 22ms/step - loss: 0.3115 - accuracy: 0.9115 - val_loss: 0.3331 - val_accuracy: 0.8821\n",
            "Epoch 5/20\n",
            "30/30 [==============================] - 1s 24ms/step - loss: 0.2656 - accuracy: 0.9197 - val_loss: 0.3077 - val_accuracy: 0.8875\n",
            "Epoch 6/20\n",
            "30/30 [==============================] - 1s 23ms/step - loss: 0.2323 - accuracy: 0.9289 - val_loss: 0.2907 - val_accuracy: 0.8906\n",
            "Epoch 7/20\n",
            "30/30 [==============================] - 1s 22ms/step - loss: 0.2060 - accuracy: 0.9384 - val_loss: 0.2823 - val_accuracy: 0.8901\n",
            "Epoch 8/20\n",
            "30/30 [==============================] - 1s 25ms/step - loss: 0.1851 - accuracy: 0.9426 - val_loss: 0.2784 - val_accuracy: 0.8899\n",
            "Epoch 9/20\n",
            "30/30 [==============================] - 1s 22ms/step - loss: 0.1672 - accuracy: 0.9501 - val_loss: 0.2775 - val_accuracy: 0.8896\n",
            "Epoch 10/20\n",
            "30/30 [==============================] - 1s 22ms/step - loss: 0.1522 - accuracy: 0.9537 - val_loss: 0.2788 - val_accuracy: 0.8887\n",
            "Epoch 11/20\n",
            "30/30 [==============================] - 1s 23ms/step - loss: 0.1393 - accuracy: 0.9588 - val_loss: 0.2788 - val_accuracy: 0.8880\n",
            "Epoch 12/20\n",
            "30/30 [==============================] - 1s 25ms/step - loss: 0.1274 - accuracy: 0.9633 - val_loss: 0.2849 - val_accuracy: 0.8854\n",
            "Epoch 13/20\n",
            "30/30 [==============================] - 1s 30ms/step - loss: 0.1168 - accuracy: 0.9672 - val_loss: 0.2965 - val_accuracy: 0.8867\n",
            "Epoch 14/20\n",
            "30/30 [==============================] - 1s 31ms/step - loss: 0.1077 - accuracy: 0.9716 - val_loss: 0.2939 - val_accuracy: 0.8853\n",
            "Epoch 15/20\n",
            "30/30 [==============================] - 1s 26ms/step - loss: 0.0989 - accuracy: 0.9739 - val_loss: 0.3012 - val_accuracy: 0.8851\n",
            "Epoch 16/20\n",
            "30/30 [==============================] - 1s 23ms/step - loss: 0.0901 - accuracy: 0.9773 - val_loss: 0.3104 - val_accuracy: 0.8844\n",
            "Epoch 17/20\n",
            "30/30 [==============================] - 1s 23ms/step - loss: 0.0827 - accuracy: 0.9798 - val_loss: 0.3187 - val_accuracy: 0.8836\n",
            "Epoch 18/20\n",
            "30/30 [==============================] - 1s 23ms/step - loss: 0.0760 - accuracy: 0.9812 - val_loss: 0.3290 - val_accuracy: 0.8828\n",
            "Epoch 19/20\n",
            "30/30 [==============================] - 1s 22ms/step - loss: 0.0687 - accuracy: 0.9843 - val_loss: 0.3466 - val_accuracy: 0.8823\n",
            "Epoch 20/20\n",
            "30/30 [==============================] - 1s 22ms/step - loss: 0.0633 - accuracy: 0.9860 - val_loss: 0.3500 - val_accuracy: 0.8812\n"
          ]
        }
      ]
    },
    {
      "cell_type": "code",
      "source": [
        "history_dict=history.history\n",
        "loss_values=history_dict['loss']\n",
        "val_loss_values=history_dict['val_loss']\n",
        "val_loss_values_2=history2.history['val_loss']\n",
        "\n",
        "epoch=range(1,len(loss_values)+1)\n",
        "plt.plot(epoch, val_loss_values_2, 'o', label='small')\n",
        "plt.plot(epoch, val_loss_values, '--', label='bigger')\n",
        "plt.legend()\n",
        "plt.show()"
      ],
      "metadata": {
        "colab": {
          "base_uri": "https://localhost:8080/",
          "height": 430
        },
        "id": "_3n2BUBtp8Dg",
        "outputId": "ca51eacd-a750-4db2-db59-339b60fb465f"
      },
      "execution_count": 63,
      "outputs": [
        {
          "output_type": "display_data",
          "data": {
            "text/plain": [
              "<Figure size 640x480 with 1 Axes>"
            ],
            "image/png": "[encoded data removed]"
          },
          "metadata": {}
        }
      ]
    },
    {
      "cell_type": "markdown",
      "source": [
        "REGULARIZACION"
      ],
      "metadata": {
        "id": "wQffNH9uq_0e"
      }
    },
    {
      "cell_type": "code",
      "source": [
        "from keras import regularizers\n",
        "\n",
        "model3=models.Sequential()\n",
        "model3.add(layers.Dense(16, activation='relu', input_shape=(10000,), \n",
        "                        kernel_regularizer=regularizers.l2(0.001))) #de la libreria de keras utilizamos regularizers \n",
        "model3.add(layers.Dense(16, activation='relu',\n",
        "           kernel_regularizer=regularizers.l2(0.001)))\n",
        "model3.add(layers.Dense(1, activation='sigmoid')) \n",
        "                                           \n",
        "model3.compile(optimizer='rmsprop',\n",
        "              loss='binary_crossentropy',\n",
        "              metrics='accuracy') \n",
        "\n",
        "history3 = model3.fit(partial_x_train, partial_y_train,\n",
        "                    epochs=20,\n",
        "                    batch_size=512,\n",
        "                    validation_data=(x_val,y_val))"
      ],
      "metadata": {
        "colab": {
          "base_uri": "https://localhost:8080/"
        },
        "id": "GWfj0Hf7q_Ze",
        "outputId": "634ccf6e-e765-433c-809e-9f39607e47e0"
      },
      "execution_count": 68,
      "outputs": [
        {
          "output_type": "stream",
          "name": "stdout",
          "text": [
            "Epoch 1/20\n",
            "30/30 [==============================] - 3s 57ms/step - loss: 0.5699 - accuracy: 0.7765 - val_loss: 0.4488 - val_accuracy: 0.8625\n",
            "Epoch 2/20\n",
            "30/30 [==============================] - 1s 24ms/step - loss: 0.3732 - accuracy: 0.8937 - val_loss: 0.3736 - val_accuracy: 0.8764\n",
            "Epoch 3/20\n",
            "30/30 [==============================] - 1s 25ms/step - loss: 0.3025 - accuracy: 0.9125 - val_loss: 0.3362 - val_accuracy: 0.8911\n",
            "Epoch 4/20\n",
            "30/30 [==============================] - 1s 23ms/step - loss: 0.2600 - accuracy: 0.9292 - val_loss: 0.3431 - val_accuracy: 0.8814\n",
            "Epoch 5/20\n",
            "30/30 [==============================] - 1s 23ms/step - loss: 0.2342 - accuracy: 0.9412 - val_loss: 0.3691 - val_accuracy: 0.8710\n",
            "Epoch 6/20\n",
            "30/30 [==============================] - 1s 23ms/step - loss: 0.2204 - accuracy: 0.9471 - val_loss: 0.3398 - val_accuracy: 0.8863\n",
            "Epoch 7/20\n",
            "30/30 [==============================] - 1s 25ms/step - loss: 0.2084 - accuracy: 0.9504 - val_loss: 0.3796 - val_accuracy: 0.8756\n",
            "Epoch 8/20\n",
            "30/30 [==============================] - 1s 25ms/step - loss: 0.1945 - accuracy: 0.9575 - val_loss: 0.3561 - val_accuracy: 0.8792\n",
            "Epoch 9/20\n",
            "30/30 [==============================] - 1s 23ms/step - loss: 0.1880 - accuracy: 0.9581 - val_loss: 0.3700 - val_accuracy: 0.8775\n",
            "Epoch 10/20\n",
            "30/30 [==============================] - 1s 25ms/step - loss: 0.1799 - accuracy: 0.9641 - val_loss: 0.3762 - val_accuracy: 0.8808\n",
            "Epoch 11/20\n",
            "30/30 [==============================] - 1s 25ms/step - loss: 0.1748 - accuracy: 0.9653 - val_loss: 0.3811 - val_accuracy: 0.8774\n",
            "Epoch 12/20\n",
            "30/30 [==============================] - 1s 22ms/step - loss: 0.1686 - accuracy: 0.9665 - val_loss: 0.4136 - val_accuracy: 0.8668\n",
            "Epoch 13/20\n",
            "30/30 [==============================] - 1s 41ms/step - loss: 0.1664 - accuracy: 0.9667 - val_loss: 0.3899 - val_accuracy: 0.8802\n",
            "Epoch 14/20\n",
            "30/30 [==============================] - 1s 31ms/step - loss: 0.1626 - accuracy: 0.9700 - val_loss: 0.4219 - val_accuracy: 0.8734\n",
            "Epoch 15/20\n",
            "30/30 [==============================] - 1s 25ms/step - loss: 0.1566 - accuracy: 0.9721 - val_loss: 0.4094 - val_accuracy: 0.8786\n",
            "Epoch 16/20\n",
            "30/30 [==============================] - 1s 23ms/step - loss: 0.1486 - accuracy: 0.9768 - val_loss: 0.4245 - val_accuracy: 0.8742\n",
            "Epoch 17/20\n",
            "30/30 [==============================] - 1s 25ms/step - loss: 0.1572 - accuracy: 0.9710 - val_loss: 0.4211 - val_accuracy: 0.8778\n",
            "Epoch 18/20\n",
            "30/30 [==============================] - 1s 23ms/step - loss: 0.1415 - accuracy: 0.9807 - val_loss: 0.4437 - val_accuracy: 0.8679\n",
            "Epoch 19/20\n",
            "30/30 [==============================] - 1s 23ms/step - loss: 0.1464 - accuracy: 0.9765 - val_loss: 0.4361 - val_accuracy: 0.8733\n",
            "Epoch 20/20\n",
            "30/30 [==============================] - 1s 25ms/step - loss: 0.1491 - accuracy: 0.9732 - val_loss: 0.4422 - val_accuracy: 0.8740\n"
          ]
        }
      ]
    },
    {
      "cell_type": "code",
      "source": [
        "history_dict=history.history\n",
        "loss_values=history_dict['loss']\n",
        "val_loss_values=history_dict['val_loss']\n",
        "val_loss_values_3=history3.history['val_loss']\n",
        "\n",
        "epoch=range(1,len(loss_values)+1)\n",
        "plt.plot(epoch, val_loss_values_3, 'o', label='regularizacion')\n",
        "plt.plot(epoch, val_loss_values, '--', label='original')\n",
        "plt.legend()\n",
        "plt.show()"
      ],
      "metadata": {
        "colab": {
          "base_uri": "https://localhost:8080/",
          "height": 430
        },
        "id": "4yraP9FbsI5t",
        "outputId": "e4363f3e-8d18-42d5-ab26-517a58d092da"
      },
      "execution_count": 70,
      "outputs": [
        {
          "output_type": "display_data",
          "data": {
            "text/plain": [
              "<Figure size 640x480 with 1 Axes>"
            ],
            "image/png": "[encoded data removed]"
          },
          "metadata": {}
        }
      ]
    },
    {
      "cell_type": "markdown",
      "source": [
        "DROPOUT"
      ],
      "metadata": {
        "id": "HzytT8s5tPhA"
      }
    },
    {
      "cell_type": "code",
      "source": [
        "#AGREGAMOS UNA CAPA DE DROPOUT CON UNA INACTIVACION DE 50%\n",
        "\n",
        "model4=models.Sequential()\n",
        "model4.add(layers.Dense(4, activation='relu', input_shape=(10000,)))\n",
        "model4.add(layers.Dropout(0.5))\n",
        "model4.add(layers.Dense(4, activation='relu'))\n",
        "model4.add(layers.Dropout(0.5))\n",
        "model4.add(layers.Dense(1, activation='sigmoid')) \n",
        "                                           \n",
        "model4.compile(optimizer='rmsprop',\n",
        "              loss='binary_crossentropy',\n",
        "              metrics='accuracy') \n",
        "\n",
        "history4 = model4.fit(partial_x_train, partial_y_train,\n",
        "                    epochs=20,\n",
        "                    batch_size=512,\n",
        "                    validation_data=(x_val,y_val))"
      ],
      "metadata": {
        "colab": {
          "base_uri": "https://localhost:8080/"
        },
        "id": "bCicSDDAtZKs",
        "outputId": "b7156973-3ee3-44dd-eb1b-89b62e475e2e"
      },
      "execution_count": 71,
      "outputs": [
        {
          "output_type": "stream",
          "name": "stdout",
          "text": [
            "Epoch 1/20\n",
            "30/30 [==============================] - 4s 55ms/step - loss: 0.6780 - accuracy: 0.5771 - val_loss: 0.6545 - val_accuracy: 0.7292\n",
            "Epoch 2/20\n",
            "30/30 [==============================] - 1s 25ms/step - loss: 0.6466 - accuracy: 0.6211 - val_loss: 0.6231 - val_accuracy: 0.8413\n",
            "Epoch 3/20\n",
            "30/30 [==============================] - 1s 22ms/step - loss: 0.6225 - accuracy: 0.6401 - val_loss: 0.5879 - val_accuracy: 0.8527\n",
            "Epoch 4/20\n",
            "30/30 [==============================] - 1s 23ms/step - loss: 0.6016 - accuracy: 0.6610 - val_loss: 0.5600 - val_accuracy: 0.8680\n",
            "Epoch 5/20\n",
            "30/30 [==============================] - 1s 25ms/step - loss: 0.5780 - accuracy: 0.6910 - val_loss: 0.5250 - val_accuracy: 0.8734\n",
            "Epoch 6/20\n",
            "30/30 [==============================] - 1s 23ms/step - loss: 0.5587 - accuracy: 0.6957 - val_loss: 0.4845 - val_accuracy: 0.8794\n",
            "Epoch 7/20\n",
            "30/30 [==============================] - 1s 26ms/step - loss: 0.5457 - accuracy: 0.6989 - val_loss: 0.4702 - val_accuracy: 0.8822\n",
            "Epoch 8/20\n",
            "30/30 [==============================] - 1s 28ms/step - loss: 0.5314 - accuracy: 0.7100 - val_loss: 0.4440 - val_accuracy: 0.8840\n",
            "Epoch 9/20\n",
            "30/30 [==============================] - 1s 29ms/step - loss: 0.5248 - accuracy: 0.7121 - val_loss: 0.4350 - val_accuracy: 0.8802\n",
            "Epoch 10/20\n",
            "30/30 [==============================] - 1s 29ms/step - loss: 0.5156 - accuracy: 0.7218 - val_loss: 0.4075 - val_accuracy: 0.8864\n",
            "Epoch 11/20\n",
            "30/30 [==============================] - 1s 23ms/step - loss: 0.5060 - accuracy: 0.7290 - val_loss: 0.3956 - val_accuracy: 0.8840\n",
            "Epoch 12/20\n",
            "30/30 [==============================] - 1s 23ms/step - loss: 0.4962 - accuracy: 0.7376 - val_loss: 0.3917 - val_accuracy: 0.8859\n",
            "Epoch 13/20\n",
            "30/30 [==============================] - 1s 25ms/step - loss: 0.4901 - accuracy: 0.7409 - val_loss: 0.3695 - val_accuracy: 0.8843\n",
            "Epoch 14/20\n",
            "30/30 [==============================] - 1s 25ms/step - loss: 0.4787 - accuracy: 0.7547 - val_loss: 0.3657 - val_accuracy: 0.8824\n",
            "Epoch 15/20\n",
            "30/30 [==============================] - 1s 25ms/step - loss: 0.4673 - accuracy: 0.7629 - val_loss: 0.3537 - val_accuracy: 0.8854\n",
            "Epoch 16/20\n",
            "30/30 [==============================] - 1s 25ms/step - loss: 0.4650 - accuracy: 0.7628 - val_loss: 0.3515 - val_accuracy: 0.8833\n",
            "Epoch 17/20\n",
            "30/30 [==============================] - 1s 23ms/step - loss: 0.4608 - accuracy: 0.7645 - val_loss: 0.3464 - val_accuracy: 0.8811\n",
            "Epoch 18/20\n",
            "30/30 [==============================] - 1s 22ms/step - loss: 0.4535 - accuracy: 0.7697 - val_loss: 0.3425 - val_accuracy: 0.8779\n",
            "Epoch 19/20\n",
            "30/30 [==============================] - 1s 23ms/step - loss: 0.4473 - accuracy: 0.7739 - val_loss: 0.3388 - val_accuracy: 0.8846\n",
            "Epoch 20/20\n",
            "30/30 [==============================] - 1s 22ms/step - loss: 0.4457 - accuracy: 0.7755 - val_loss: 0.3317 - val_accuracy: 0.8831\n"
          ]
        }
      ]
    },
    {
      "cell_type": "code",
      "source": [
        "history_dict=history.history\n",
        "loss_values=history_dict['loss']\n",
        "val_loss_values=history_dict['val_loss']\n",
        "val_loss_values_4=history4.history['val_loss']\n",
        "\n",
        "epoch=range(1,len(loss_values)+1)\n",
        "plt.plot(epoch, val_loss_values_4, 'o', label='dropout')\n",
        "plt.plot(epoch, val_loss_values, '--', label='original')\n",
        "plt.legend()\n",
        "plt.show()"
      ],
      "metadata": {
        "colab": {
          "base_uri": "https://localhost:8080/",
          "height": 430
        },
        "id": "50JXoElot2G8",
        "outputId": "e01c70a6-1d13-4a78-a17f-f56a794dc599"
      },
      "execution_count": 72,
      "outputs": [
        {
          "output_type": "display_data",
          "data": {
            "text/plain": [
              "<Figure size 640x480 with 1 Axes>"
            ],
            "image/png": "[encoded data removed]"
          },
          "metadata": {}
        }
      ]
    }
  ]
}