{
  "nbformat": 4,
  "nbformat_minor": 0,
  "metadata": {
    "colab": {
      "provenance": [],
      "gpuType": "T4"
    },
    "kernelspec": {
      "name": "python3",
      "display_name": "Python 3"
    },
    "language_info": {
      "name": "python"
    },
    "accelerator": "GPU"
  },
  "cells": [
    {
      "cell_type": "markdown",
      "source": [
        "Este ejercicio de clasificacion multiple tenemos un dataset de noticias(entradas), que tiene 46 topicos(salidas)"
      ],
      "metadata": {
        "id": "sAOouTPPQgJI"
      }
    },
    {
      "cell_type": "code",
      "execution_count": 1,
      "metadata": {
        "id": "-dpR4oLiQfqa"
      },
      "outputs": [],
      "source": [
        "import numpy as np\n",
        "from keras import models, layers\n",
        "from keras.datasets import reuters"
      ]
    },
    {
      "cell_type": "code",
      "source": [
        "(train_data, train_labels),(test_data, test_labels)= reuters.load_data(num_words=10000)"
      ],
      "metadata": {
        "colab": {
          "base_uri": "https://localhost:8080/"
        },
        "id": "eIAvTjkAQ8TX",
        "outputId": "8a93b57f-0d9b-4c51-f929-9dc5de3ed064"
      },
      "execution_count": 2,
      "outputs": [
        {
          "output_type": "stream",
          "name": "stdout",
          "text": [
            "Downloading data from https://storage.googleapis.com/tensorflow/tf-keras-datasets/reuters.npz\n",
            "2110848/2110848 [==============================] - 1s 1us/step\n"
          ]
        }
      ]
    },
    {
      "cell_type": "code",
      "source": [
        "word_index=reuters.get_word_index() \n",
        "word_index=dict([(value,key) for (key,value) in word_index.items()])\n",
        "for _ in train_data[0]:\n",
        "  print(word_index.get(_ -3))\n"
      ],
      "metadata": {
        "id": "JhJ4tnqrRPpH"
      },
      "execution_count": null,
      "outputs": []
    },
    {
      "cell_type": "code",
      "source": [
        "def vectorizar(sequences, dim=10000):\n",
        "  results=np.zeros((len(sequences),dim))\n",
        "  for i, sequences in enumerate(sequences):\n",
        "    results[i,sequences]=1\n",
        "  return results"
      ],
      "metadata": {
        "id": "vWyuNlk8R5zO"
      },
      "execution_count": 4,
      "outputs": []
    },
    {
      "cell_type": "code",
      "source": [
        "x_train=vectorizar(train_data)\n",
        "x_test=vectorizar(test_data)"
      ],
      "metadata": {
        "id": "olIdADf4R83Q"
      },
      "execution_count": 5,
      "outputs": []
    },
    {
      "cell_type": "markdown",
      "source": [
        "Pasamos las salidas o los labels a un one hot encoding ubicando cada salida en una posicion entre las 46 opciones."
      ],
      "metadata": {
        "id": "DN-NZi0aTZ6l"
      }
    },
    {
      "cell_type": "code",
      "source": [
        "from keras.utils import to_categorical"
      ],
      "metadata": {
        "id": "RFlMiIVFSpJO"
      },
      "execution_count": 6,
      "outputs": []
    },
    {
      "cell_type": "code",
      "source": [
        "y_train=to_categorical(train_labels)\n",
        "y_test=to_categorical(test_labels)"
      ],
      "metadata": {
        "id": "6rbYVYQZTAgU"
      },
      "execution_count": 7,
      "outputs": []
    },
    {
      "cell_type": "markdown",
      "source": [
        "Construimos el modelo de nuestra red:"
      ],
      "metadata": {
        "id": "VXV6iw_0T-9d"
      }
    },
    {
      "cell_type": "code",
      "source": [
        "model=models.Sequential()\n",
        "model.add(layers.Dense(64, activation='relu', input_shape=(10000,)))\n",
        "model.add(layers.Dense(64, activation='relu'))\n",
        "model.add(layers.Dense(46, activation='softmax'))"
      ],
      "metadata": {
        "id": "idcnJ7tQUCIX"
      },
      "execution_count": 18,
      "outputs": []
    },
    {
      "cell_type": "markdown",
      "source": [
        "Compilamos el modelo:"
      ],
      "metadata": {
        "id": "s6mcEoisUiDe"
      }
    },
    {
      "cell_type": "code",
      "source": [
        "model.compile(optimizer='rmsprop', #existen otro como el adam\n",
        "              loss='categorical_crossentropy', #lo que en clasificacion binaria es el binary_crossentropy\n",
        "              metrics=['accuracy'])"
      ],
      "metadata": {
        "id": "Bm1AVZjBUkoc"
      },
      "execution_count": 19,
      "outputs": []
    },
    {
      "cell_type": "markdown",
      "source": [
        "Separamos el set de validacion:"
      ],
      "metadata": {
        "id": "0lHglnDBVG-m"
      }
    },
    {
      "cell_type": "code",
      "source": [
        "x_val=x_train[:1000]\n",
        "partial_x_train=x_train[1000:]\n",
        "\n",
        "y_val=y_train[:1000]\n",
        "partial_y_train=y_train[1000:]\n"
      ],
      "metadata": {
        "id": "U5bqG6BwVGOy"
      },
      "execution_count": 20,
      "outputs": []
    },
    {
      "cell_type": "markdown",
      "source": [
        "<h1>Entrenamiento del modelo de clasificacion</h1>"
      ],
      "metadata": {
        "id": "DrCB0IznXbny"
      }
    },
    {
      "cell_type": "code",
      "source": [
        "history = model.fit(partial_x_train, partial_y_train, \n",
        "                   epochs=9, \n",
        "                   batch_size=512, \n",
        "                   validation_data=(x_val, y_val))"
      ],
      "metadata": {
        "colab": {
          "base_uri": "https://localhost:8080/"
        },
        "id": "kzzzLW_DU398",
        "outputId": "94dcb6ec-a9e0-4b55-9e29-d45f81eb4242"
      },
      "execution_count": 21,
      "outputs": [
        {
          "output_type": "stream",
          "name": "stdout",
          "text": [
            "Epoch 1/9\n",
            "16/16 [==============================] - 1s 33ms/step - loss: 2.7739 - accuracy: 0.5084 - val_loss: 1.8718 - val_accuracy: 0.6090\n",
            "Epoch 2/9\n",
            "16/16 [==============================] - 0s 17ms/step - loss: 1.5647 - accuracy: 0.6784 - val_loss: 1.3709 - val_accuracy: 0.6820\n",
            "Epoch 3/9\n",
            "16/16 [==============================] - 0s 17ms/step - loss: 1.1801 - accuracy: 0.7444 - val_loss: 1.1888 - val_accuracy: 0.7210\n",
            "Epoch 4/9\n",
            "16/16 [==============================] - 0s 16ms/step - loss: 0.9618 - accuracy: 0.7915 - val_loss: 1.0658 - val_accuracy: 0.7620\n",
            "Epoch 5/9\n",
            "16/16 [==============================] - 0s 16ms/step - loss: 0.7957 - accuracy: 0.8265 - val_loss: 0.9897 - val_accuracy: 0.7860\n",
            "Epoch 6/9\n",
            "16/16 [==============================] - 0s 17ms/step - loss: 0.6660 - accuracy: 0.8524 - val_loss: 0.9949 - val_accuracy: 0.7820\n",
            "Epoch 7/9\n",
            "16/16 [==============================] - 0s 18ms/step - loss: 0.5602 - accuracy: 0.8772 - val_loss: 0.9389 - val_accuracy: 0.7830\n",
            "Epoch 8/9\n",
            "16/16 [==============================] - 0s 16ms/step - loss: 0.4734 - accuracy: 0.8971 - val_loss: 0.9005 - val_accuracy: 0.7990\n",
            "Epoch 9/9\n",
            "16/16 [==============================] - 0s 20ms/step - loss: 0.3998 - accuracy: 0.9133 - val_loss: 0.9024 - val_accuracy: 0.7940\n"
          ]
        }
      ]
    },
    {
      "cell_type": "code",
      "source": [
        "#Grafiquemos\n",
        "import matplotlib.pyplot as plt\n",
        "\n",
        "history_dict=history.history\n",
        "loss_values=history_dict['loss']\n",
        "val_loss_values=history_dict['val_loss']\n",
        "\n",
        "fig=plt.figure(figsize=(10,10))\n",
        "epoch=range(1,len(loss_values)+1)\n",
        "plt.plot(epoch, loss_values, 'o', label='training')\n",
        "plt.plot(epoch, val_loss_values, '--', label='validation')\n",
        "plt.legend()\n",
        "plt.show()"
      ],
      "metadata": {
        "colab": {
          "base_uri": "https://localhost:8080/",
          "height": 830
        },
        "id": "26wY80wOb_MW",
        "outputId": "84129b74-d73c-44c3-f987-f3908ad4484e"
      },
      "execution_count": 22,
      "outputs": [
        {
          "output_type": "display_data",
          "data": {
            "text/plain": [
              "<Figure size 1000x1000 with 1 Axes>"
            ],
            "image/png": "[encoded data removed]"
          },
          "metadata": {}
        }
      ]
    },
    {
      "cell_type": "code",
      "source": [
        "history_dict=history.history\n",
        "loss_values=history_dict['accuracy']\n",
        "val_loss_values=history_dict['val_accuracy']\n",
        "\n",
        "fig=plt.figure(figsize=(10,10))\n",
        "epoch=range(1,len(loss_values)+1)\n",
        "plt.plot(epoch, loss_values, 'o', label='training')\n",
        "plt.plot(epoch, val_loss_values, '--', label='validation')\n",
        "plt.legend()\n",
        "plt.show()"
      ],
      "metadata": {
        "colab": {
          "base_uri": "https://localhost:8080/",
          "height": 830
        },
        "id": "Cu5rGxUvc0tQ",
        "outputId": "7109a9ee-5426-4f07-aa27-c9b48b916b90"
      },
      "execution_count": 23,
      "outputs": [
        {
          "output_type": "display_data",
          "data": {
            "text/plain": [
              "<Figure size 1000x1000 with 1 Axes>"
            ],
            "image/png": "[encoded data removed]"
          },
          "metadata": {}
        }
      ]
    },
    {
      "cell_type": "code",
      "source": [
        "model.evaluate(x_test, y_test)"
      ],
      "metadata": {
        "colab": {
          "base_uri": "https://localhost:8080/"
        },
        "id": "HMDMxJkls7oA",
        "outputId": "ca25f811-ac0b-459f-a42d-19137df5f011"
      },
      "execution_count": 14,
      "outputs": [
        {
          "output_type": "stream",
          "name": "stdout",
          "text": [
            "71/71 [==============================] - 0s 3ms/step - loss: 1.1861 - accuracy: 0.7801\n"
          ]
        },
        {
          "output_type": "execute_result",
          "data": {
            "text/plain": [
              "[1.186076283454895, 0.780053436756134]"
            ]
          },
          "metadata": {},
          "execution_count": 14
        }
      ]
    },
    {
      "cell_type": "code",
      "source": [
        "model.evaluate(x_test, y_test)"
      ],
      "metadata": {
        "colab": {
          "base_uri": "https://localhost:8080/"
        },
        "id": "UIhGLj_XtYUi",
        "outputId": "75ec25e3-8f1f-4482-bf56-71efe1055601"
      },
      "execution_count": 24,
      "outputs": [
        {
          "output_type": "stream",
          "name": "stdout",
          "text": [
            "71/71 [==============================] - 0s 3ms/step - loss: 0.9881 - accuracy: 0.7756\n"
          ]
        },
        {
          "output_type": "execute_result",
          "data": {
            "text/plain": [
              "[0.9880726337432861, 0.7756010890007019]"
            ]
          },
          "metadata": {},
          "execution_count": 24
        }
      ]
    },
    {
      "cell_type": "code",
      "source": [
        "predictions=model.predict(x_test) # de esta forma hacemos las predicciones"
      ],
      "metadata": {
        "colab": {
          "base_uri": "https://localhost:8080/"
        },
        "id": "SSuIM1mutnaG",
        "outputId": "c4ef417e-bfa1-4616-c872-ae62db16a939"
      },
      "execution_count": 25,
      "outputs": [
        {
          "output_type": "stream",
          "name": "stdout",
          "text": [
            "71/71 [==============================] - 0s 3ms/step\n"
          ]
        }
      ]
    },
    {
      "cell_type": "code",
      "source": [
        "predictions[0]"
      ],
      "metadata": {
        "colab": {
          "base_uri": "https://localhost:8080/"
        },
        "id": "YWKhuOsKx60E",
        "outputId": "c19c93df-ccae-4190-e059-ef85581b8529"
      },
      "execution_count": 26,
      "outputs": [
        {
          "output_type": "execute_result",
          "data": {
            "text/plain": [
              "array([1.86467587e-05, 5.69381373e-05, 2.09519112e-06, 8.11969101e-01,\n",
              "       1.82707682e-01, 3.02202261e-06, 4.60181800e-05, 2.34208957e-04,\n",
              "       7.16487353e-04, 4.06901381e-05, 3.72605100e-05, 3.78430210e-04,\n",
              "       6.73781105e-05, 1.11719128e-04, 1.00876750e-05, 1.35487644e-05,\n",
              "       1.21304096e-04, 1.33406065e-05, 1.43190914e-06, 3.54326272e-04,\n",
              "       2.28697923e-03, 8.03036091e-05, 2.72772724e-07, 1.04251238e-04,\n",
              "       1.28928623e-05, 3.23300083e-05, 2.99886256e-06, 3.14932295e-05,\n",
              "       2.06310375e-04, 1.33334834e-05, 1.08644599e-05, 5.61114939e-05,\n",
              "       1.93907817e-05, 2.56720659e-06, 6.34549906e-06, 1.43617954e-05,\n",
              "       5.63900721e-05, 9.84950384e-06, 1.43060506e-05, 6.77910721e-05,\n",
              "       2.48941706e-05, 1.58496084e-06, 2.03248419e-06, 2.38434259e-05,\n",
              "       1.30081289e-05, 1.75346167e-06], dtype=float32)"
            ]
          },
          "metadata": {},
          "execution_count": 26
        }
      ]
    },
    {
      "cell_type": "code",
      "source": [
        "np.sum(predictions[0])"
      ],
      "metadata": {
        "colab": {
          "base_uri": "https://localhost:8080/"
        },
        "id": "b32RVPhCx992",
        "outputId": "99f2776f-e169-43f0-9db9-2776c7fa6c70"
      },
      "execution_count": 28,
      "outputs": [
        {
          "output_type": "execute_result",
          "data": {
            "text/plain": [
              "1.0"
            ]
          },
          "metadata": {},
          "execution_count": 28
        }
      ]
    },
    {
      "cell_type": "code",
      "source": [
        "np.argmax(predictions[0])"
      ],
      "metadata": {
        "colab": {
          "base_uri": "https://localhost:8080/"
        },
        "id": "4tLrvac4yIlb",
        "outputId": "7ac7a093-c099-45d0-856b-dfd86d00e705"
      },
      "execution_count": 29,
      "outputs": [
        {
          "output_type": "execute_result",
          "data": {
            "text/plain": [
              "3"
            ]
          },
          "metadata": {},
          "execution_count": 29
        }
      ]
    },
    {
      "cell_type": "markdown",
      "source": [
        "RETO: Aplicar todas las tecnicas para reducir el overfitting, un modelo mas pequeño, regularizacion y dropout, ademas de ajustar las epocas para que no iteremas o menos de lo que necesitamos (guiandose con las graficas)"
      ],
      "metadata": {
        "id": "QZ2Sv02MyZav"
      }
    }
  ]
}